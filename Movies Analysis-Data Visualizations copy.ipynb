{
 "cells": [
  {
   "cell_type": "markdown",
   "metadata": {},
   "source": [
    "## Final Project Submission\n",
    "\n",
    "Please fill out:\n",
    "* Student name: Ian Macharia\n",
    "* Student pace:  full time\n",
    "* Scheduled project review date/time: \n",
    "* Instructor name: \n",
    "* Blog post URL:\n"
   ]
  },
  {
   "cell_type": "markdown",
   "metadata": {},
   "source": [
    "# Movie studio analysis\n"
   ]
  },
  {
   "cell_type": "markdown",
   "metadata": {},
   "source": [
    "### Importing relevant packages"
   ]
  },
  {
   "cell_type": "code",
   "execution_count": 1,
   "metadata": {},
   "outputs": [],
   "source": [
    "\n",
    "# importing relevant Packages.\n",
    "\"\"\"The packages we use are the built upon base Python language\n",
    "They include:\n",
    "Numpy Package for mathematical analysis if we will need\n",
    "Pandas package - which will be used for cleaning and subsetting the data into dataframe\n",
    "SQlite3 package for extracting data from databases used.\n",
    "Matplotlib package for some basic visualization\n",
    "Seaborn package for more detailed visualizations\n",
    "it is common practice to import the packages using their aliases rather than\n",
    "having to call their full names.\n",
    "\"\"\"\n",
    "#importing Numpy\n",
    "import numpy as np\n",
    "#importing Pandas\n",
    "import pandas as pd\n",
    "#importing SQLite3\n",
    "import sqlite3 as sqlite3\n",
    "#importing Matplotlib\n",
    "import matplotlib.pyplot as plt\n",
    "%matplotlib inline\n",
    "#importing Seaborn\n",
    "import seaborn as sns"
   ]
  },
  {
   "cell_type": "markdown",
   "metadata": {},
   "source": [
    "## Data Understanding"
   ]
  },
  {
   "cell_type": "markdown",
   "metadata": {},
   "source": [
    "### Reading Datasets"
   ]
  },
  {
   "cell_type": "markdown",
   "metadata": {},
   "source": [
    "#### Data set one: Movie Gross Sales"
   ]
  },
  {
   "cell_type": "code",
   "execution_count": 2,
   "metadata": {},
   "outputs": [
    {
     "data": {
      "text/html": [
       "<div>\n",
       "<style scoped>\n",
       "    .dataframe tbody tr th:only-of-type {\n",
       "        vertical-align: middle;\n",
       "    }\n",
       "\n",
       "    .dataframe tbody tr th {\n",
       "        vertical-align: top;\n",
       "    }\n",
       "\n",
       "    .dataframe thead th {\n",
       "        text-align: right;\n",
       "    }\n",
       "</style>\n",
       "<table border=\"1\" class=\"dataframe\">\n",
       "  <thead>\n",
       "    <tr style=\"text-align: right;\">\n",
       "      <th></th>\n",
       "      <th>title</th>\n",
       "      <th>studio</th>\n",
       "      <th>domestic_gross</th>\n",
       "      <th>foreign_gross</th>\n",
       "      <th>year</th>\n",
       "    </tr>\n",
       "  </thead>\n",
       "  <tbody>\n",
       "    <tr>\n",
       "      <th>0</th>\n",
       "      <td>Toy Story 3</td>\n",
       "      <td>BV</td>\n",
       "      <td>415000000.0</td>\n",
       "      <td>652000000</td>\n",
       "      <td>2010</td>\n",
       "    </tr>\n",
       "    <tr>\n",
       "      <th>1</th>\n",
       "      <td>Alice in Wonderland (2010)</td>\n",
       "      <td>BV</td>\n",
       "      <td>334200000.0</td>\n",
       "      <td>691300000</td>\n",
       "      <td>2010</td>\n",
       "    </tr>\n",
       "    <tr>\n",
       "      <th>2</th>\n",
       "      <td>Harry Potter and the Deathly Hallows Part 1</td>\n",
       "      <td>WB</td>\n",
       "      <td>296000000.0</td>\n",
       "      <td>664300000</td>\n",
       "      <td>2010</td>\n",
       "    </tr>\n",
       "    <tr>\n",
       "      <th>3</th>\n",
       "      <td>Inception</td>\n",
       "      <td>WB</td>\n",
       "      <td>292600000.0</td>\n",
       "      <td>535700000</td>\n",
       "      <td>2010</td>\n",
       "    </tr>\n",
       "    <tr>\n",
       "      <th>4</th>\n",
       "      <td>Shrek Forever After</td>\n",
       "      <td>P/DW</td>\n",
       "      <td>238700000.0</td>\n",
       "      <td>513900000</td>\n",
       "      <td>2010</td>\n",
       "    </tr>\n",
       "    <tr>\n",
       "      <th>...</th>\n",
       "      <td>...</td>\n",
       "      <td>...</td>\n",
       "      <td>...</td>\n",
       "      <td>...</td>\n",
       "      <td>...</td>\n",
       "    </tr>\n",
       "    <tr>\n",
       "      <th>3382</th>\n",
       "      <td>The Quake</td>\n",
       "      <td>Magn.</td>\n",
       "      <td>6200.0</td>\n",
       "      <td>NaN</td>\n",
       "      <td>2018</td>\n",
       "    </tr>\n",
       "    <tr>\n",
       "      <th>3383</th>\n",
       "      <td>Edward II (2018 re-release)</td>\n",
       "      <td>FM</td>\n",
       "      <td>4800.0</td>\n",
       "      <td>NaN</td>\n",
       "      <td>2018</td>\n",
       "    </tr>\n",
       "    <tr>\n",
       "      <th>3384</th>\n",
       "      <td>El Pacto</td>\n",
       "      <td>Sony</td>\n",
       "      <td>2500.0</td>\n",
       "      <td>NaN</td>\n",
       "      <td>2018</td>\n",
       "    </tr>\n",
       "    <tr>\n",
       "      <th>3385</th>\n",
       "      <td>The Swan</td>\n",
       "      <td>Synergetic</td>\n",
       "      <td>2400.0</td>\n",
       "      <td>NaN</td>\n",
       "      <td>2018</td>\n",
       "    </tr>\n",
       "    <tr>\n",
       "      <th>3386</th>\n",
       "      <td>An Actor Prepares</td>\n",
       "      <td>Grav.</td>\n",
       "      <td>1700.0</td>\n",
       "      <td>NaN</td>\n",
       "      <td>2018</td>\n",
       "    </tr>\n",
       "  </tbody>\n",
       "</table>\n",
       "<p>3387 rows × 5 columns</p>\n",
       "</div>"
      ],
      "text/plain": [
       "                                            title      studio  domestic_gross  \\\n",
       "0                                     Toy Story 3          BV     415000000.0   \n",
       "1                      Alice in Wonderland (2010)          BV     334200000.0   \n",
       "2     Harry Potter and the Deathly Hallows Part 1          WB     296000000.0   \n",
       "3                                       Inception          WB     292600000.0   \n",
       "4                             Shrek Forever After        P/DW     238700000.0   \n",
       "...                                           ...         ...             ...   \n",
       "3382                                    The Quake       Magn.          6200.0   \n",
       "3383                  Edward II (2018 re-release)          FM          4800.0   \n",
       "3384                                     El Pacto        Sony          2500.0   \n",
       "3385                                     The Swan  Synergetic          2400.0   \n",
       "3386                            An Actor Prepares       Grav.          1700.0   \n",
       "\n",
       "     foreign_gross  year  \n",
       "0        652000000  2010  \n",
       "1        691300000  2010  \n",
       "2        664300000  2010  \n",
       "3        535700000  2010  \n",
       "4        513900000  2010  \n",
       "...            ...   ...  \n",
       "3382           NaN  2018  \n",
       "3383           NaN  2018  \n",
       "3384           NaN  2018  \n",
       "3385           NaN  2018  \n",
       "3386           NaN  2018  \n",
       "\n",
       "[3387 rows x 5 columns]"
      ]
     },
     "execution_count": 2,
     "metadata": {},
     "output_type": "execute_result"
    }
   ],
   "source": [
    "\"\"\"This is data on the gross sales of movies\"\"\"\n",
    "\n",
    "#reading the data\n",
    "movie_gross = pd.read_csv(\".Data/bom.movie_gross.csv\")\n",
    "\n",
    "#looking into the data\n",
    "#print(movie_gross)\n",
    "\n",
    "\n",
    "\"\"\"We notice the data contains 3387 rows and five columns as below:\"\"\"\n",
    "\n",
    "movie_gross"
   ]
  },
  {
   "cell_type": "markdown",
   "metadata": {},
   "source": [
    "##### Cleaning  this dataset"
   ]
  },
  {
   "cell_type": "code",
   "execution_count": null,
   "metadata": {},
   "outputs": [],
   "source": [
    "#next, we check wether this data contains any missing information\n",
    "movie_gross.info()\n",
    "print(\"\"\"We notice the data contains missing values in all columns except two: title and year\n",
    "we also notice the foreign_gross is anobject type yet it is an integer\n",
    "We observe that the title and year columns do not have missing values\n",
    "Studio column has 5 missing values,\n",
    "domestic_gross has 28 missing values and \n",
    "foreign_gross has the most missing values with 1350 rows missing values\"\"\")\n"
   ]
  },
  {
   "cell_type": "code",
   "execution_count": null,
   "metadata": {},
   "outputs": [],
   "source": [
    "movie_gross['foreign_gross'] = movie_gross['foreign_gross'].str.replace(',', '').astype(float)\n",
    "movie_gross.info()"
   ]
  },
  {
   "cell_type": "code",
   "execution_count": null,
   "metadata": {},
   "outputs": [],
   "source": [
    "#counting the missing values in the other columns\n",
    "movie_gross.isnull().sum()"
   ]
  },
  {
   "cell_type": "code",
   "execution_count": null,
   "metadata": {},
   "outputs": [],
   "source": [
    "\"\"\"to be able to understand the data better, we are going tosubset it below\n",
    "to only contain data in the foreign gross without the missing rows. \n",
    "we will then carry out descriptive analysis of the same to understand the mean, maximum value,\n",
    "minimum valueand thestandard deviation. \"\"\"\n",
    "#the code below drops all the missing values\n",
    "mvg = movie_gross['foreign_gross'].dropna()\n",
    "#we encountered a value that contained a coma(,) so we needed to remove it\n",
    "mvg = mvg.replace(',', '').astype(float)\n",
    "#below are the statitstical analysis of the new data frame with 2037 rows\n",
    "print(\"Number of Rows:\", mvg.count())\n",
    "print(\"Maximum Value:\", mvg.max())\n",
    "print(\"Minimum Value:\", mvg.min())\n",
    "print(\"Mean:\", mvg.mean().round())\n",
    "print(\"Median Value:\", mvg.median())\n",
    "print(\"Standard Deviation:\", mvg.std().round())\n"
   ]
  },
  {
   "cell_type": "code",
   "execution_count": null,
   "metadata": {},
   "outputs": [],
   "source": [
    "#randnum = list(np.random.randint(low=600, high=9605000))\n",
    "#type(randnum)\n",
    "mvg = movie_gross['foreign_gross']\n",
    "#movie_gross.foreign_gross = movie_gross.foreign_gross.fillna(randnum)\n",
    "print (mvg.apply(lambda x: np.random.randint(low=600, high=9605000) if pd.isnull(x) else x))"
   ]
  },
  {
   "cell_type": "code",
   "execution_count": null,
   "metadata": {},
   "outputs": [],
   "source": [
    "\"\"\"This is a function that generates a series of \n",
    "random numbers between min value 600 and value 9605000, \n",
    "since using the max value will give a skewed datsset\n",
    "we with use these numbers to fill the null values in the data,\n",
    "so that we can avoid removing almost 40% of the data.\n",
    "\"\"\"\n",
    "\n",
    "def rand_gross_null(data):\n",
    "    replace_null = mvg.apply(lambda x: np.random.randint(low=600, high=9605000) if pd.isnull(x) else x)\n",
    "    return replace_null"
   ]
  },
  {
   "cell_type": "code",
   "execution_count": null,
   "metadata": {},
   "outputs": [],
   "source": [
    "#Here we apply the above function to our dataset and confirm the changes are made.\n",
    "movie_gross['foreign_gross'] = rand_gross_null(movie_gross['foreign_gross'])\n",
    "\n",
    "\n",
    "movie_gross['foreign_gross']"
   ]
  },
  {
   "cell_type": "code",
   "execution_count": null,
   "metadata": {},
   "outputs": [],
   "source": [
    "\n",
    "print(\"\"\"Looking at the new dataset,we observe a huge unrealisting  replacement on some of the values\n",
    "a movie could not possibly earn more in that 100% the domestic market in the foreign market;\n",
    "we check our previously subset data without the replaced value find if there were any occurences  of the same.\n",
    "We observe that this is a normal occurence although not at that percentage.\n",
    "To be able to make a more informed decision,\n",
    "we will look at how such a change will affect the meanmedian and standard \n",
    "deviation for our original dataset.\"\"\")\n",
    "movie_gross"
   ]
  },
  {
   "cell_type": "code",
   "execution_count": null,
   "metadata": {},
   "outputs": [],
   "source": [
    "\"\"\"To be able to conduct analysis using this data\n",
    "we need to remove or replace the missing values\"\"\"\n",
    "#removing missing values in the studio column\n",
    "movie_gross.dropna(subset=['studio'], inplace=True)\n",
    "#removing missing values in the domestic_gross column\n",
    "movie_gross.dropna(subset=['domestic_gross'], inplace=True)"
   ]
  },
  {
   "cell_type": "code",
   "execution_count": null,
   "metadata": {},
   "outputs": [],
   "source": [
    "#checking for any zero values\n",
    "movie_gross.isin([0]).sum(axis=0)\n"
   ]
  },
  {
   "cell_type": "code",
   "execution_count": null,
   "metadata": {},
   "outputs": [],
   "source": [
    "print(movie_gross.info())\n",
    "print(\"\"\" we now see the final dataframe has a total of 3356 after final cleaning. \n",
    "Now our dataset is ready to use\"\"\")"
   ]
  },
  {
   "cell_type": "markdown",
   "metadata": {},
   "source": [
    "##### Data set two: Movie information"
   ]
  },
  {
   "cell_type": "code",
   "execution_count": null,
   "metadata": {},
   "outputs": [],
   "source": [
    "#reading additional datasets\n",
    "movie_info = pd.read_table(\".Data/rt.movie_info.tsv\",index_col=None)\n",
    "\n",
    "#looking into the data\n",
    "movie_info"
   ]
  },
  {
   "cell_type": "code",
   "execution_count": null,
   "metadata": {},
   "outputs": [],
   "source": [
    "movie_info.info()"
   ]
  },
  {
   "cell_type": "code",
   "execution_count": null,
   "metadata": {},
   "outputs": [],
   "source": [
    "#counting the missing values\n",
    "movie_info.isnull().sum()"
   ]
  },
  {
   "cell_type": "markdown",
   "metadata": {},
   "source": [
    "We observe that only the id column does not have missing values\n",
    "looking at the extreem number of missing valuesin the currency and box office columns,\n",
    "we have no option but to drop them.\n",
    "we can keep the studio column and try later to fill them from movie_gross dataset.\n",
    "alternatively we can discard it from use at this time."
   ]
  },
  {
   "cell_type": "code",
   "execution_count": null,
   "metadata": {},
   "outputs": [],
   "source": [
    "movie_info = movie_info.dropna()\n",
    "movie_info"
   ]
  },
  {
   "cell_type": "markdown",
   "metadata": {},
   "source": [
    "The above function significantly redues out dataset, therefore using in in the analysis will mean a reduced number of datapoints therefore we will not have a comprehensive analysis.\n",
    "We can opt to use it in the end while sampling to try and explain our findings"
   ]
  },
  {
   "cell_type": "markdown",
   "metadata": {},
   "source": [
    "##### Data set three: Movie Reviews"
   ]
  },
  {
   "cell_type": "code",
   "execution_count": null,
   "metadata": {},
   "outputs": [],
   "source": [
    "#reading additional datasets\n",
    "movie_reviews = pd.read_table(\".Data/rt.reviews.tsv\",encoding='unicode_escape',index_col=False)\n",
    "\n",
    "#looking into the data\n",
    "movie_reviews"
   ]
  },
  {
   "cell_type": "code",
   "execution_count": null,
   "metadata": {},
   "outputs": [],
   "source": [
    "#counting the missing values\n",
    "print(\"Number of missing values per column:\")\n",
    "\n",
    "print(movie_reviews.isnull().sum())\n",
    "\n",
    "print(\"\"\"We observe the data contain a very high number of mising values\n",
    "therefore we might consider not using this dataset at this time,\n",
    "just as the above dataset. \n",
    "although the initial data contains 54432 rows, \n",
    "and the resulting rows after the drop are 33988 \n",
    "\"\"\")"
   ]
  },
  {
   "cell_type": "code",
   "execution_count": null,
   "metadata": {},
   "outputs": [],
   "source": [
    "movie_reviews = movie_reviews.dropna()\n",
    "movie_reviews"
   ]
  },
  {
   "cell_type": "markdown",
   "metadata": {},
   "source": [
    "##### Data set four: Movies"
   ]
  },
  {
   "cell_type": "code",
   "execution_count": null,
   "metadata": {},
   "outputs": [],
   "source": [
    "#reading additional datasets\n",
    "movies = pd.read_csv(\".Data/.tmdb.movies.csv\",index_col=0)#,encoding='unicode_escape',index_col=False)\n",
    "\n",
    "#looking into the data\n",
    "movies"
   ]
  },
  {
   "cell_type": "code",
   "execution_count": null,
   "metadata": {},
   "outputs": [],
   "source": [
    "#counting the missing values\n",
    "movies.info()\n",
    "\n"
   ]
  },
  {
   "cell_type": "code",
   "execution_count": null,
   "metadata": {},
   "outputs": [],
   "source": [
    "#removing zero values from the dataset\n",
    "movies.isin([0]).sum(axis=0)\n",
    "movies = movies.drop(movies[movies['vote_average'] == 0].index, axis=0)\n",
    "movies.isin([0]).sum(axis=0)"
   ]
  },
  {
   "cell_type": "code",
   "execution_count": null,
   "metadata": {},
   "outputs": [],
   "source": [
    "print(\"\"\"From this dataframe, we observe there are no missing values, \n",
    "but upon investigation of the data\n",
    "we notice that they used placeholders\n",
    "in the data such as - _EXHIBIT_84xxx_ in the column original title,\n",
    "0.600 for the popularity column and 0.0 in the vote_average column,\n",
    "among other unidentified values.\n",
    "we can deal with this later just before visualization.\n",
    "\"\"\")"
   ]
  },
  {
   "cell_type": "markdown",
   "metadata": {},
   "source": [
    "##### Data set five: Movie Budgets"
   ]
  },
  {
   "cell_type": "code",
   "execution_count": null,
   "metadata": {},
   "outputs": [],
   "source": [
    "#reading additional datasets\n",
    "movie_budgets = pd.read_csv(\".Data/.tn.movie_budgets.csv\",index_col=0)#,encoding='unicode_escape',index_col=False)\n",
    "\n",
    "#looking into the data\n",
    "movie_budgets"
   ]
  },
  {
   "cell_type": "code",
   "execution_count": null,
   "metadata": {},
   "outputs": [],
   "source": [
    "\"\"\"Here we will write a function that will strip\n",
    "commas and dollar sign on the production_budget,domestic_gross and worldwide_gross\n",
    "\"\"\"\n",
    "#striping from production budget column\n",
    "movie_budgets.production_budget = movie_budgets.production_budget.str.replace('$', '')\n",
    "movie_budgets.production_budget = movie_budgets.production_budget.str.replace(',', '')\n",
    "movie_budgets.production_budget = movie_budgets.production_budget.astype(int)"
   ]
  },
  {
   "cell_type": "code",
   "execution_count": null,
   "metadata": {},
   "outputs": [],
   "source": [
    "#striping from domestic gross column\n",
    "movie_budgets.domestic_gross = movie_budgets.domestic_gross.str.replace('$', '')\n",
    "movie_budgets.domestic_gross = movie_budgets.domestic_gross.str.replace(',', '')\n",
    "movie_budgets.domestic_gross = movie_budgets.domestic_gross.astype(int)"
   ]
  },
  {
   "cell_type": "code",
   "execution_count": null,
   "metadata": {},
   "outputs": [],
   "source": [
    "#striping from domestic gross column\n",
    "movie_budgets.worldwide_gross = movie_budgets.worldwide_gross.str.replace('$', '')\n",
    "movie_budgets.worldwide_gross = movie_budgets.worldwide_gross.str.replace(',', '')\n",
    "movie_budgets = movie_budgets.rename(columns={'movie':'title'})\n",
    "movie_budgets.worldwide_gross = movie_budgets.worldwide_gross.astype(float)"
   ]
  },
  {
   "cell_type": "code",
   "execution_count": null,
   "metadata": {},
   "outputs": [],
   "source": [
    "movie_budgets.info()"
   ]
  },
  {
   "cell_type": "code",
   "execution_count": null,
   "metadata": {},
   "outputs": [],
   "source": [
    "movie_budgets.isnull().sum()"
   ]
  },
  {
   "cell_type": "code",
   "execution_count": null,
   "metadata": {},
   "outputs": [],
   "source": [
    "#checking zero values in the dataframe\n",
    "movie_budgets.isin([0]).sum(axis=0)\n",
    "movie_budgets = movie_budgets.drop(movie_budgets[movie_budgets[\"domestic_gross\"] == 0].index, axis=0)\n",
    "movie_budgets.isin([0]).sum(axis=0)"
   ]
  },
  {
   "cell_type": "raw",
   "metadata": {},
   "source": [
    "#Here we calculate the foreign sales by subrtacting domestic sales from worldwide sales\n",
    "#mov_analysis['foreign_gross'] = mov_analysis['worldwide_gross'] - mov_analysis['domestic_gross']\n",
    "def calculate_foreign_gross(row):\n",
    "    return row['worldwide_gross'] - row['domestic_gross']\n",
    "mov_analysis['foreign_gross'] = mov_analysis.apply(calculate_foreign_gross, axis=1)"
   ]
  },
  {
   "cell_type": "markdown",
   "metadata": {},
   "source": [
    "### Reading Final dataset"
   ]
  },
  {
   "cell_type": "markdown",
   "metadata": {},
   "source": [
    "#### Im Database"
   ]
  },
  {
   "cell_type": "code",
   "execution_count": null,
   "metadata": {},
   "outputs": [],
   "source": [
    "# Open up a connection\n",
    "conn = sqlite3.connect('.Data/.im.db')\n",
    "# Initialize a cursor\n",
    "cursor = conn.cursor()"
   ]
  },
  {
   "cell_type": "code",
   "execution_count": null,
   "metadata": {},
   "outputs": [],
   "source": [
    "table_name_query = \"\"\"SELECT name \n",
    "                      AS 'Table Names' \n",
    "                      FROM sqlite_master \n",
    "                      WHERE type='table';\"\"\"\n",
    "\n",
    "pd.read_sql(table_name_query, conn)"
   ]
  },
  {
   "cell_type": "code",
   "execution_count": null,
   "metadata": {},
   "outputs": [],
   "source": [
    "imdb_mov_basic = pd.read_sql(\"\"\"\n",
    "SELECT *\n",
    "FROM movie_basics\n",
    "\n",
    "\"\"\",conn)\n",
    "imdb_mov_basic"
   ]
  },
  {
   "cell_type": "code",
   "execution_count": null,
   "metadata": {},
   "outputs": [],
   "source": [
    "imdb_mov_ratings = pd.read_sql(\"\"\"\n",
    "SELECT *\n",
    "FROM movie_ratings\n",
    "\n",
    "\"\"\",conn)\n",
    "imdb_mov_ratings"
   ]
  },
  {
   "cell_type": "code",
   "execution_count": null,
   "metadata": {},
   "outputs": [],
   "source": [
    "imdb_mov_aka = pd.read_sql(\"\"\"\n",
    "SELECT *\n",
    "FROM movie_akas\n",
    "\n",
    "\"\"\",conn)\n",
    "imdb_mov_aka"
   ]
  },
  {
   "cell_type": "code",
   "execution_count": null,
   "metadata": {},
   "outputs": [],
   "source": [
    "imdb = pd.read_sql(\"\"\"\n",
    "SELECT  movie_basics.movie_id,\n",
    "        movie_basics.genres,\n",
    "        movie_basics.runtime_minutes,\n",
    "        movie_ratings.averagerating,\n",
    "        movie_akas.title\n",
    "FROM movie_basics\n",
    "JOIN movie_ratings ON movie_basics.movie_id = movie_ratings.movie_id\n",
    "JOIN movie_akas ON movie_ratings.movie_id = movie_akas.movie_id;\n",
    "\"\"\",conn)\n",
    "imdb"
   ]
  },
  {
   "cell_type": "markdown",
   "metadata": {},
   "source": [
    "#### Cleaning resulting dataframe"
   ]
  },
  {
   "cell_type": "code",
   "execution_count": null,
   "metadata": {},
   "outputs": [],
   "source": [
    "#Checking for missing values\n",
    "imdb.info()\n",
    "\n",
    "print(\"We find there are missing values as follows:\", imdb.isnull().sum())"
   ]
  },
  {
   "cell_type": "code",
   "execution_count": null,
   "metadata": {},
   "outputs": [],
   "source": [
    "#checking for Duplicates\n",
    "print(\"Number of duplicated rows:\", imdb.movie_id.duplicated().sum())\n",
    "print(\"We observe:\", imdb.movie_id.duplicated().sum(), \"rows; have been duplicated and we drop them below\")\n",
    "\n",
    "#droping duplicated values\n",
    "imdb.drop_duplicates(subset='movie_id',inplace=True)\n",
    "\n",
    "print(\"Resulting dataframe has:\", len(imdb), \"rows; from the previous 261806\" )\n",
    "imdb"
   ]
  },
  {
   "cell_type": "code",
   "execution_count": null,
   "metadata": {},
   "outputs": [],
   "source": [
    "\"\"\"We further observe that the data missing in the movies_id column is a dulpicate\n",
    "therefore we remove it from our dataset as below\"\"\"\n",
    "imdb.movie_id.dropna(inplace=True)"
   ]
  },
  {
   "cell_type": "code",
   "execution_count": null,
   "metadata": {},
   "outputs": [],
   "source": [
    "\"\"\"It is standard practice to fill missing values with values already in our dataset,\n",
    "which is what we have done here\"\"\"\n",
    "#filling Null values\n",
    "imdb.fillna(method='ffill',inplace=True)\n",
    "\n",
    "#checking changes in the dataframe\n",
    "imdb"
   ]
  },
  {
   "cell_type": "code",
   "execution_count": null,
   "metadata": {},
   "outputs": [],
   "source": []
  },
  {
   "cell_type": "markdown",
   "metadata": {},
   "source": [
    "## Data Visualization"
   ]
  },
  {
   "cell_type": "markdown",
   "metadata": {},
   "source": [
    "### Understanding Project Requirements"
   ]
  },
  {
   "cell_type": "markdown",
   "metadata": {},
   "source": [
    "The project must focus on identifying the types of movies that are currently doing well in the market and provide actionable insights to the head of Microsoft's new movie studio. The stakeholders in this project include Microsoft executives, investors, and potential moviegoers who are interested in watching new and exciting movies.\n",
    "The problem is to find the right strategy for Microsoft's new movie studio by understanding the audience's preferences and current market trends. By identifying the types of films that are currently successful, Microsoft can create a plan that aligns with the market's demand and attract potential customers.\n"
   ]
  },
  {
   "cell_type": "markdown",
   "metadata": {},
   "source": [
    "To explore what types of films are currently doing the best at the box office, we can analyze the provided data set of movies. The relevant columns to consider for this analysis are genres, averagerating, domestic_gross, and worldwide_gross."
   ]
  },
  {
   "cell_type": "code",
   "execution_count": null,
   "metadata": {},
   "outputs": [],
   "source": [
    "\"\"\"We might want to group the data using the genres column in order to carry out analysis \n",
    "on the runtimes and ratings for each genre\"\"\"\n",
    "#we will group the data as follows\n",
    "grouped_data = imdb.groupby('genres')\n",
    "#to have data displayed ina dataframe we would need to aggregate the values in the other columns. \n",
    "genre_data = grouped_data.mean()[['runtime_minutes', 'averagerating']]\n",
    "genre_data.reset_index(inplace=True)"
   ]
  },
  {
   "cell_type": "code",
   "execution_count": null,
   "metadata": {},
   "outputs": [],
   "source": [
    "#resulting dataframe\n",
    "\n",
    "\n",
    "\"\"\"We can then use this data to create visual plots to show the relationship\n",
    "between genres, ratings and runtime\"\"\"\n",
    "\n"
   ]
  },
  {
   "cell_type": "code",
   "execution_count": null,
   "metadata": {},
   "outputs": [],
   "source": [
    "\n",
    "# Create a variable with the count of movies in each genre\n",
    "genre_count = imdb['genres'].value_counts()\n",
    "\n",
    "# Replace values with less than 100 values with NaNs\n",
    "genre_count = genre_count.mask(genre_count <= 1000)\n",
    "\n",
    "# Drop rows containing NaNs\n",
    "genre_count = genre_count.dropna()\n",
    "\n",
    "# Convert dictionary to pandas Series\n",
    "genre_series = pd.Series(genre_count, dtype=float)"
   ]
  },
  {
   "cell_type": "code",
   "execution_count": null,
   "metadata": {},
   "outputs": [],
   "source": [
    "genre_series"
   ]
  },
  {
   "cell_type": "code",
   "execution_count": null,
   "metadata": {},
   "outputs": [],
   "source": [
    "\n",
    "#Plotting\n",
    "plt.figure(figsize=(12,6))\n",
    "sns.barplot(x=genre_series.index, y=genre_series.values)\n",
    "plt.xticks(rotation=90)\n",
    "plt.xlabel('Genre')\n",
    "plt.ylabel('Number of Movies')\n",
    "plt.title('Total Number of Movies by Genre')\n",
    "plt.show()"
   ]
  },
  {
   "cell_type": "code",
   "execution_count": null,
   "metadata": {
    "scrolled": false
   },
   "outputs": [],
   "source": [
    "\"\"\"We can then investigate the relationship between\n",
    "runtime and average rating using a scatter plot\"\"\"\n",
    "plt.figure(figsize=(12,6))\n",
    "sns.scatterplot(x='runtime_minutes', y= 'averagerating',hue='genres',legend=False ,data=genre_data)\n",
    "plt.xlabel('Runtime in Minutes')\n",
    "plt.ylabel('Average Rating')\n",
    "plt.title('Relationship Between Runtime and Average Rating')"
   ]
  },
  {
   "cell_type": "code",
   "execution_count": null,
   "metadata": {},
   "outputs": [],
   "source": [
    "genre_data"
   ]
  },
  {
   "cell_type": "code",
   "execution_count": null,
   "metadata": {},
   "outputs": [],
   "source": [
    "\"\"\"We can create a boxplot showing the distribution of Average ratings \n",
    "by Genre\"\"\"\n",
    "plt.figure(figsize=(12,6))\n",
    "sns.boxplot(x='genres', y='averagerating', data=genre_data)\n",
    "plt.xticks(rotation=90)\n",
    "plt.xlabel('Genre')\n",
    "plt.ylabel=('Average Rating')\n",
    "Plt.title=('Distribution od Average Ratings by Genre')\n",
    "plt.show()"
   ]
  },
  {
   "cell_type": "code",
   "execution_count": null,
   "metadata": {},
   "outputs": [],
   "source": []
  },
  {
   "cell_type": "code",
   "execution_count": null,
   "metadata": {},
   "outputs": [],
   "source": []
  },
  {
   "cell_type": "raw",
   "metadata": {},
   "source": [
    "merged_df = pd.merge(df1, df2, left_on=\"matched_title\", right_on=\"title\")"
   ]
  },
  {
   "cell_type": "code",
   "execution_count": null,
   "metadata": {},
   "outputs": [],
   "source": []
  },
  {
   "cell_type": "code",
   "execution_count": null,
   "metadata": {},
   "outputs": [],
   "source": []
  },
  {
   "cell_type": "code",
   "execution_count": null,
   "metadata": {},
   "outputs": [],
   "source": []
  },
  {
   "cell_type": "code",
   "execution_count": null,
   "metadata": {},
   "outputs": [],
   "source": []
  },
  {
   "cell_type": "code",
   "execution_count": null,
   "metadata": {},
   "outputs": [],
   "source": []
  },
  {
   "cell_type": "code",
   "execution_count": null,
   "metadata": {},
   "outputs": [],
   "source": []
  },
  {
   "cell_type": "code",
   "execution_count": null,
   "metadata": {},
   "outputs": [],
   "source": []
  },
  {
   "cell_type": "code",
   "execution_count": null,
   "metadata": {},
   "outputs": [],
   "source": []
  },
  {
   "cell_type": "code",
   "execution_count": null,
   "metadata": {},
   "outputs": [],
   "source": []
  },
  {
   "cell_type": "code",
   "execution_count": null,
   "metadata": {},
   "outputs": [],
   "source": []
  },
  {
   "cell_type": "code",
   "execution_count": null,
   "metadata": {},
   "outputs": [],
   "source": []
  },
  {
   "cell_type": "code",
   "execution_count": null,
   "metadata": {},
   "outputs": [],
   "source": []
  },
  {
   "cell_type": "code",
   "execution_count": null,
   "metadata": {},
   "outputs": [],
   "source": []
  },
  {
   "cell_type": "code",
   "execution_count": null,
   "metadata": {},
   "outputs": [],
   "source": []
  },
  {
   "cell_type": "code",
   "execution_count": null,
   "metadata": {},
   "outputs": [],
   "source": []
  },
  {
   "cell_type": "code",
   "execution_count": null,
   "metadata": {},
   "outputs": [],
   "source": []
  },
  {
   "cell_type": "code",
   "execution_count": null,
   "metadata": {},
   "outputs": [],
   "source": []
  },
  {
   "cell_type": "code",
   "execution_count": null,
   "metadata": {},
   "outputs": [],
   "source": []
  },
  {
   "cell_type": "code",
   "execution_count": null,
   "metadata": {},
   "outputs": [],
   "source": []
  },
  {
   "cell_type": "markdown",
   "metadata": {},
   "source": [
    "The business problem is that Microsoft wants to enter the movie industry and create a new movie studio. However, they have limited knowledge about creating movies, and they need to understand the market demand and what types of films are currently successful at the box office.\n",
    "\n",
    "To address this problem, the project must focus on identifying the types of movies that are currently doing well in the market and provide actionable insights to the head of Microsoft's new movie studio. The stakeholders in this project include Microsoft executives, investors, and potential moviegoers who are interested in watching new and exciting movies.\n",
    "\n",
    "The problem is to find the right strategy for Microsoft's new movie studio by understanding the audience's preferences and current market trends. By identifying the types of films that are currently successful, Microsoft can create a plan that aligns with the market's demand and attract potential customers.\n",
    "\n",
    "The value of this project is to help Microsoft make informed decisions about creating a new movie studio by providing actionable insights about the types of films that are currently successful. This will help Microsoft minimize risks, reduce costs, and increase the chances of success in a highly competitive market.\n",
    "\n",
    "Overall, the project's goal is to assist Microsoft in creating a successful movie studio by identifying the types of films that are currently successful and translating these findings into actionable insights that can guide decision-making.\n",
    "\n",
    "#### \n",
    "To explore what types of films are currently doing the best at the box office, we can analyze the provided data set of movies. The relevant columns to consider for this analysis are genres, averagerating, domestic_gross, and worldwide_gross.\n",
    "\n",
    "First, we can group the movies by genres and calculate the average rating, domestic gross, and worldwide gross for each genre. This will give us an idea of which genres are more popular among audiences and are generating more revenue. We can use this information to identify the top genres that Microsoft's new movie studio should focus on.\n",
    "\n",
    "Second, we can analyze the relationship between the movie rating and revenue. This analysis will give us insights into the impact of ratings on box office performance. It will help us understand whether higher-rated movies tend to perform better or not.\n",
    "\n",
    "Finally, we can also look at the release date of the movies to see if there are any trends or patterns. This analysis can help us identify the best time to release a movie for maximum revenue.\n",
    "\n",
    "Overall, by analyzing the provided dataset, we can provide actionable insights to Microsoft's new movie studio regarding what types of films to create.\n"
   ]
  },
  {
   "cell_type": "code",
   "execution_count": null,
   "metadata": {},
   "outputs": [],
   "source": []
  },
  {
   "cell_type": "code",
   "execution_count": null,
   "metadata": {},
   "outputs": [],
   "source": []
  },
  {
   "cell_type": "code",
   "execution_count": null,
   "metadata": {},
   "outputs": [],
   "source": []
  },
  {
   "cell_type": "code",
   "execution_count": null,
   "metadata": {},
   "outputs": [],
   "source": []
  },
  {
   "cell_type": "code",
   "execution_count": null,
   "metadata": {},
   "outputs": [],
   "source": []
  },
  {
   "cell_type": "code",
   "execution_count": null,
   "metadata": {},
   "outputs": [],
   "source": []
  },
  {
   "cell_type": "code",
   "execution_count": null,
   "metadata": {},
   "outputs": [],
   "source": []
  },
  {
   "cell_type": "code",
   "execution_count": null,
   "metadata": {},
   "outputs": [],
   "source": []
  },
  {
   "cell_type": "code",
   "execution_count": null,
   "metadata": {},
   "outputs": [],
   "source": []
  },
  {
   "cell_type": "code",
   "execution_count": null,
   "metadata": {},
   "outputs": [],
   "source": []
  },
  {
   "cell_type": "code",
   "execution_count": null,
   "metadata": {},
   "outputs": [],
   "source": []
  },
  {
   "cell_type": "code",
   "execution_count": null,
   "metadata": {},
   "outputs": [],
   "source": []
  },
  {
   "cell_type": "code",
   "execution_count": null,
   "metadata": {},
   "outputs": [],
   "source": []
  },
  {
   "cell_type": "raw",
   "metadata": {},
   "source": [
    "\"\"\"We can start by analyzing the imdb dataframe to get an understanding of the count of movies\n",
    "based on the genre.\"\"\"\n",
    "#We will need to firt create a column of unique genres that involves striping the commas\n",
    "imdb['genres'] = imdb['genres'].str.split(',')\n",
    "imdb['genres']\n",
    "#next we create a list of unique genres\n",
    "all_genres = set([genre for genres in imdb['genres'] for genre in genres])\n",
    "#after we create a dictionary to store the count of movies for each genre\n",
    "genre_counts = {}\n",
    "for genre in all_genres:\n",
    "    count = len(imdb[imdb[\"genres\"].apply(lambda x: genre in x)])\n",
    "    genre_counts[genre] = count\n",
    "# convert the dictionary to a dataframe and sort by count of movies\n",
    "genre_counts_df = pd.DataFrame.from_dict(genre_counts, orient=\"index\", columns=[\"count\"])\n",
    "genre_counts_df.sort_values(\"count\", ascending=False, inplace=True)\n",
    "\n",
    "\n",
    "# plot the bar chart\n",
    "plt.bar(genre_counts_df.index, genre_counts_df[\"count\"])\n",
    "plt.xticks(rotation=90)\n",
    "plt.xlabel(\"Genre\")\n",
    "plt.ylabel(\"Count of Movies\")\n",
    "plt.title(\"Count of Movies by Genre\")\n",
    "plt.show()"
   ]
  }
 ],
 "metadata": {
  "kernelspec": {
   "display_name": "Python 3",
   "language": "python",
   "name": "python3"
  },
  "language_info": {
   "codemirror_mode": {
    "name": "ipython",
    "version": 3
   },
   "file_extension": ".py",
   "mimetype": "text/x-python",
   "name": "python",
   "nbconvert_exporter": "python",
   "pygments_lexer": "ipython3",
   "version": "3.8.5"
  }
 },
 "nbformat": 4,
 "nbformat_minor": 2
}
